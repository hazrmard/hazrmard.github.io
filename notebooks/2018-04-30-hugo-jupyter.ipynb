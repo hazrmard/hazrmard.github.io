{
 "cells": [
  {
   "cell_type": "markdown",
   "metadata": {},
   "source": [
    "[Hugo][1] is a static site generator. It takes a bunch of markdown files and renders them to HTML. It is fast and simple.\n",
    "\n",
    "![md2html](../img/posts/hugo-jupyter/md-to-html.png)\n",
    "\n",
    "[Jupyter Notebooks][2] are an interactive front-end for python (with support for other languages too). They execute code, display its output, and render markdown all in a browser window. The notebooks are a neat compilation of formatted code and text generated as HTML.\n",
    "\n",
    "![jupyter2html](../img/posts/hugo-jupyter/jupyter-to-html.png)\n",
    "\n",
    "I use Hugo for my site. I use Jupyter Notebooks to quickly prototype ideas or troubleshoot code. Wouldn't it be nice if there were a way to tell Hugo to take my Jupyter Notebooks and render them as static HTML pages on my site?\n",
    "\n",
    "A less convenient alternative would be to simply link the notebooks for download, or use an external service (like [NBViewer][3]) to render notebooks each time someone visits my site.\n",
    "\n",
    "I wrote a script that takes my Jupyter notebooks and converts them to markdown and/or html. I can then either add them as a standard Hugo post or embed/append them to existing posts.\n",
    "\n",
    "![jupyter2md2html](../img/posts/hugo-jupyter/jupyter-to-md-to-html.png)\n",
    "\n",
    "The script `notebook.py` runs from the root directory of the hugo site. It detects all Jupyter notebooks in the `static/notebooks/` directory. The name of the notebooks must be identical to the markdown file that is to be created/appended to.\n",
    "\n",
    "Indeed, this post was written on Jupyter notebook. I then used the command:\n",
    "\n",
    "```\n",
    "> python notebook.py --files 2018-04-30-hugo-jupyter  # filename w/o extension\n",
    "                     --to md                          # convert to markdown\n",
    "                     --force                          # overwrite existing .md\n",
    "                     --embed                          # embed instead of append\n",
    "```\n",
    "\n",
    "The script then placed the converted markdown into `post/2018-04-30-hugo-jupyter.md`. Since I used the `--embed` flag, the markdown was placed in the output file, replacing any exisiting contents (instead of appending to the end). Since I used the `--force` flag, no error was raised if a file with the name already existed. Providing a `--section NAME` flag will place the output in another section besides the default `post`.\n",
    "\n",
    "With this script, I can add hugo directives/shortcodes in Jupyter notebook. They are then rendered by Hugo in the final stage of my site generation.\n",
    "\n",
    "For example, at the end of this post, I have a shortcode to render my script as python:\n",
    "\n",
    "\n",
    "```python\n",
    "{{< read src=\"/notebooks.py\" >}}\n",
    "```\n",
    "\n",
    "[1]: https://gohugo.io\n",
    "[2]: https://jupyter.org\n",
    "[3]: https://nbviewer.jupyter.org"
   ]
  }
 ],
 "metadata": {
  "kernelspec": {
   "display_name": "Python 3",
   "language": "python",
   "name": "python3"
  },
  "language_info": {
   "codemirror_mode": {
    "name": "ipython",
    "version": 3
   },
   "file_extension": ".py",
   "mimetype": "text/x-python",
   "name": "python",
   "nbconvert_exporter": "python",
   "pygments_lexer": "ipython3",
   "version": "3.6.4"
  }
 },
 "nbformat": 4,
 "nbformat_minor": 2
}
